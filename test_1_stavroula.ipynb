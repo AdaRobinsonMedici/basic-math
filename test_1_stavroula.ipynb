{
 "cells": [
  {
   "cell_type": "markdown",
   "id": "a57d25af-0f48-411f-a862-826da167dd45",
   "metadata": {},
   "source": [
    "this is one markdown"
   ]
  },
  {
   "cell_type": "code",
   "execution_count": 6,
   "id": "d6151ec3-f1ae-4a89-9fc5-132c5d4870d0",
   "metadata": {},
   "outputs": [
    {
     "name": "stdout",
     "output_type": "stream",
     "text": [
      "3\n"
     ]
    }
   ],
   "source": [
    "a = 1\n",
    "b = 2\n",
    "f = a + b\n",
    "print(f)"
   ]
  },
  {
   "cell_type": "code",
   "execution_count": null,
   "id": "c65cc49c-9f88-4cde-bbb3-d532137abec1",
   "metadata": {},
   "outputs": [],
   "source": []
  }
 ],
 "metadata": {
  "kernelspec": {
   "display_name": "Python 3 (ipykernel)",
   "language": "python",
   "name": "python3"
  },
  "language_info": {
   "codemirror_mode": {
    "name": "ipython",
    "version": 3
   },
   "file_extension": ".py",
   "mimetype": "text/x-python",
   "name": "python",
   "nbconvert_exporter": "python",
   "pygments_lexer": "ipython3",
   "version": "3.11.10"
  }
 },
 "nbformat": 4,
 "nbformat_minor": 5
}
